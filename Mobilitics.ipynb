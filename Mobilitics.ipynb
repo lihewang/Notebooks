{
 "cells": [
  {
   "cell_type": "markdown",
   "id": "772bab9e",
   "metadata": {},
   "source": [
    "# Mobilitics Inputs"
   ]
  },
  {
   "cell_type": "markdown",
   "id": "62428829",
   "metadata": {},
   "source": [
    "## CAV Technology"
   ]
  },
  {
   "attachments": {},
   "cell_type": "markdown",
   "id": "f0e19d46",
   "metadata": {},
   "source": [
    "Three levels of automation:\n",
    "- Type 1\tEnhanced safety features and connectivity\n",
    "- Type 2\tDriver assistance and automation on specified facilities\n",
    "- Type 3\tFully automated"
   ]
  },
  {
   "attachments": {},
   "cell_type": "markdown",
   "id": "1df5dbb8",
   "metadata": {},
   "source": [
    "**Years to Market**: available for purchase by households <br>\n",
    "**Years to Acceptance**: general public is comfortable using\n",
    "<table>\n",
    "    <tr>\n",
    "        <th>Automation Type<th>\n",
    "        <th>Years to Market<th>\n",
    "        <th>Years to Acceptance<th>\n",
    "    </tr>\n",
    "    <tr>\n",
    "        <td>Car Type1<td>\n",
    "        <td>1<td>\n",
    "        <td>1<td>\n",
    "    </tr>\n",
    "    <tr>\n",
    "        <td>Car Type2<td>\n",
    "        <td>5<td>\n",
    "        <td>4<td>\n",
    "    </tr>\n",
    "    <tr>\n",
    "        <td>Car Type3<td>\n",
    "        <td>15<td>\n",
    "        <td>8<td>\n",
    "    </tr>\n",
    "    <tr>\n",
    "        <td>Truck Type1<td>\n",
    "        <td>1<td>\n",
    "        <td>1<td>\n",
    "    </tr>\n",
    "    <tr>\n",
    "        <td>Truck Type2<td>\n",
    "        <td>5<td>\n",
    "        <td>3<td>\n",
    "    </tr>\n",
    "    <tr>\n",
    "        <td>Truck Type3<td>\n",
    "        <td>17<td>\n",
    "        <td>8<td>\n",
    "    </tr>\n",
    "</table>"
   ]
  },
  {
   "cell_type": "markdown",
   "id": "bddc94ef",
   "metadata": {},
   "source": [
    "## CAV Capacity Factors"
   ]
  },
  {
   "cell_type": "markdown",
   "id": "6b6cc5e2",
   "metadata": {},
   "source": [
    "The CAV capacity factor is calculated using a polynominal formula. User can specify different coefficients for freeway, major arterial, minor arterial, and toll road. "
   ]
  },
  {
   "cell_type": "code",
   "execution_count": 31,
   "id": "35a320c0",
   "metadata": {},
   "outputs": [
    {
     "data": {
      "application/vnd.jupyter.widget-view+json": {
       "model_id": "8df7a46255564ac3b02c97b0ed86c499",
       "version_major": 2,
       "version_minor": 0
      },
      "text/plain": [
       "interactive(children=(FloatSlider(value=-0.1, description='a', max=0.1, min=-0.30000000000000004), FloatSlider…"
      ]
     },
     "metadata": {},
     "output_type": "display_data"
    },
    {
     "data": {
      "text/plain": [
       "<function __main__.cav_cap(a, b)>"
      ]
     },
     "execution_count": 31,
     "metadata": {},
     "output_type": "execute_result"
    }
   ],
   "source": [
    "import numpy as np\n",
    "from matplotlib import pyplot as plt \n",
    "from ipywidgets import interact\n",
    "import ipywidgets as wgt\n",
    "\n",
    "def cav_cap(a,b):\n",
    "    #Coefficients\n",
    "    coeff_custom = np.array([1,a,b])\n",
    "    coeff_low = np.array([1,-0.1,0.4])\n",
    "    coeff_high = np.array([1,-0.2,1])\n",
    "    apr = np.arange(0,1.05,0.05)\n",
    "    #Calculate CAV capacity factor\n",
    "    cf_custom = coeff_custom[0]+apr*coeff_custom[1]+apr*apr*coeff_custom[2]\n",
    "    cf_low = coeff_low[0]+apr*coeff_low[1]+apr*apr*coeff_low[2]\n",
    "    cf_high = coeff_high[0]+apr*coeff_high[1]+apr*apr*coeff_high[2]\n",
    "    #plot\n",
    "    plt.plot(apr,cf_custom, label=\"custom\")\n",
    "    plt.plot(apr,cf_low, label=\"low\")\n",
    "    plt.plot(apr,cf_high, label=\"high\")\n",
    "    plt.title(\"CAV Capacity Factor\")\n",
    "    plt.xlabel(\"CAV Penetration Rate\")\n",
    "    plt.ylabel(\"CAV Capacity Factor\")\n",
    "    plt.grid(linestyle='--')\n",
    "    plt.legend()\n",
    "    plt.show\n",
    "    \n",
    "interact(cav_cap, a=-0.1, b=0.6)"
   ]
  },
  {
   "cell_type": "code",
   "execution_count": null,
   "id": "5c5dc7b1",
   "metadata": {},
   "outputs": [],
   "source": []
  }
 ],
 "metadata": {
  "kernelspec": {
   "display_name": "Python 3 (ipykernel)",
   "language": "python",
   "name": "python3"
  },
  "language_info": {
   "codemirror_mode": {
    "name": "ipython",
    "version": 3
   },
   "file_extension": ".py",
   "mimetype": "text/x-python",
   "name": "python",
   "nbconvert_exporter": "python",
   "pygments_lexer": "ipython3",
   "version": "3.10.2"
  }
 },
 "nbformat": 4,
 "nbformat_minor": 5
}
